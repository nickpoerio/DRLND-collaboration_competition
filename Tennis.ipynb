{
 "cells": [
  {
   "cell_type": "markdown",
   "metadata": {},
   "source": [
    "# Collaboration and Competition\n",
    "\n",
    "---\n",
    "\n",
    "In this notebook, you will learn how to use the Unity ML-Agents environment for the third project of the [Deep Reinforcement Learning Nanodegree](https://www.udacity.com/course/deep-reinforcement-learning-nanodegree--nd893) program.\n",
    "\n",
    "### 1. Start the Environment\n",
    "\n",
    "We begin by importing the necessary packages.  If the code cell below returns an error, please revisit the project instructions to double-check that you have installed [Unity ML-Agents](https://github.com/Unity-Technologies/ml-agents/blob/master/docs/Installation.md) and [NumPy](http://www.numpy.org/)."
   ]
  },
  {
   "cell_type": "code",
   "execution_count": 1,
   "metadata": {},
   "outputs": [],
   "source": [
    "from unityagents import UnityEnvironment\n",
    "import numpy as np"
   ]
  },
  {
   "cell_type": "markdown",
   "metadata": {},
   "source": [
    "Next, we will start the environment!  **_Before running the code cell below_**, change the `file_name` parameter to match the location of the Unity environment that you downloaded.\n",
    "\n",
    "- **Mac**: `\"path/to/Tennis.app\"`\n",
    "- **Windows** (x86): `\"path/to/Tennis_Windows_x86/Tennis.exe\"`\n",
    "- **Windows** (x86_64): `\"path/to/Tennis_Windows_x86_64/Tennis.exe\"`\n",
    "- **Linux** (x86): `\"path/to/Tennis_Linux/Tennis.x86\"`\n",
    "- **Linux** (x86_64): `\"path/to/Tennis_Linux/Tennis.x86_64\"`\n",
    "- **Linux** (x86, headless): `\"path/to/Tennis_Linux_NoVis/Tennis.x86\"`\n",
    "- **Linux** (x86_64, headless): `\"path/to/Tennis_Linux_NoVis/Tennis.x86_64\"`\n",
    "\n",
    "For instance, if you are using a Mac, then you downloaded `Tennis.app`.  If this file is in the same folder as the notebook, then the line below should appear as follows:\n",
    "```\n",
    "env = UnityEnvironment(file_name=\"Tennis.app\")\n",
    "```"
   ]
  },
  {
   "cell_type": "code",
   "execution_count": 2,
   "metadata": {},
   "outputs": [
    {
     "name": "stderr",
     "output_type": "stream",
     "text": [
      "INFO:unityagents:\n",
      "'Academy' started successfully!\n",
      "Unity Academy name: Academy\n",
      "        Number of Brains: 1\n",
      "        Number of External Brains : 1\n",
      "        Lesson number : 0\n",
      "        Reset Parameters :\n",
      "\t\t\n",
      "Unity brain name: TennisBrain\n",
      "        Number of Visual Observations (per agent): 0\n",
      "        Vector Observation space type: continuous\n",
      "        Vector Observation space size (per agent): 8\n",
      "        Number of stacked Vector Observation: 3\n",
      "        Vector Action space type: continuous\n",
      "        Vector Action space size (per agent): 2\n",
      "        Vector Action descriptions: , \n"
     ]
    }
   ],
   "source": [
    "env = UnityEnvironment(file_name=\"Tennis_Linux/Tennis.x86_64\")"
   ]
  },
  {
   "cell_type": "markdown",
   "metadata": {},
   "source": [
    "Environments contain **_brains_** which are responsible for deciding the actions of their associated agents. Here we check for the first brain available, and set it as the default brain we will be controlling from Python."
   ]
  },
  {
   "cell_type": "code",
   "execution_count": 3,
   "metadata": {},
   "outputs": [],
   "source": [
    "# get the default brain\n",
    "brain_name = env.brain_names[0]\n",
    "brain = env.brains[brain_name]"
   ]
  },
  {
   "cell_type": "markdown",
   "metadata": {},
   "source": [
    "### 2. Examine the State and Action Spaces\n",
    "\n",
    "In this environment, two agents control rackets to bounce a ball over a net. If an agent hits the ball over the net, it receives a reward of +0.1.  If an agent lets a ball hit the ground or hits the ball out of bounds, it receives a reward of -0.01.  Thus, the goal of each agent is to keep the ball in play.\n",
    "\n",
    "The observation space consists of 8 variables corresponding to the position and velocity of the ball and racket. Two continuous actions are available, corresponding to movement toward (or away from) the net, and jumping. \n",
    "\n",
    "Run the code cell below to print some information about the environment."
   ]
  },
  {
   "cell_type": "code",
   "execution_count": 4,
   "metadata": {},
   "outputs": [
    {
     "name": "stdout",
     "output_type": "stream",
     "text": [
      "Number of agents: 2\n",
      "Size of each action: 2\n",
      "There are 2 agents. Each observes a state with length: 24\n",
      "The state for the first agent looks like: [ 0.          0.          0.          0.          0.          0.\n",
      "  0.          0.          0.          0.          0.          0.\n",
      "  0.          0.          0.          0.         -6.65278625 -1.5\n",
      " -0.          0.          6.83172083  6.         -0.          0.        ]\n"
     ]
    }
   ],
   "source": [
    "# reset the environment\n",
    "env_info = env.reset(train_mode=True)[brain_name]\n",
    "\n",
    "# number of agents \n",
    "num_agents = len(env_info.agents)\n",
    "print('Number of agents:', num_agents)\n",
    "\n",
    "# size of each action\n",
    "action_size = brain.vector_action_space_size\n",
    "print('Size of each action:', action_size)\n",
    "\n",
    "# examine the state space \n",
    "states = env_info.vector_observations\n",
    "state_size = states.shape[1]\n",
    "print('There are {} agents. Each observes a state with length: {}'.format(states.shape[0], state_size))\n",
    "print('The state for the first agent looks like:', states[0])"
   ]
  },
  {
   "cell_type": "markdown",
   "metadata": {},
   "source": [
    "### 3. Take Random Actions in the Environment\n",
    "\n",
    "In the next code cell, you will learn how to use the Python API to control the agents and receive feedback from the environment.\n",
    "\n",
    "Once this cell is executed, you will watch the agents' performance, if they select actions at random with each time step.  A window should pop up that allows you to observe the agents.\n",
    "\n",
    "Of course, as part of the project, you'll have to change the code so that the agents are able to use their experiences to gradually choose better actions when interacting with the environment!"
   ]
  },
  {
   "cell_type": "code",
   "execution_count": 7,
   "metadata": {},
   "outputs": [
    {
     "name": "stdout",
     "output_type": "stream",
     "text": [
      "Score (max over agents) from episode 1: 0.0\n",
      "Score (max over agents) from episode 2: 0.0\n",
      "Score (max over agents) from episode 3: 0.0\n",
      "Score (max over agents) from episode 4: 0.09000000171363354\n",
      "Score (max over agents) from episode 5: 0.0\n"
     ]
    }
   ],
   "source": [
    "for i in range(1, 6):                                      # play game for 5 episodes\n",
    "    env_info = env.reset(train_mode=False)[brain_name]     # reset the environment    \n",
    "    states = env_info.vector_observations                  # get the current state (for each agent)\n",
    "    scores = np.zeros(num_agents)                          # initialize the score (for each agent)\n",
    "    while True:\n",
    "        actions = np.random.randn(num_agents, action_size) # select an action (for each agent)\n",
    "        actions = np.clip(actions, -1, 1)                  # all actions between -1 and 1\n",
    "        env_info = env.step(actions)[brain_name]           # send all actions to tne environment\n",
    "        next_states = env_info.vector_observations         # get next state (for each agent)\n",
    "        rewards = env_info.rewards                         # get reward (for each agent)\n",
    "        dones = env_info.local_done                        # see if episode finished\n",
    "        scores += env_info.rewards                         # update the score (for each agent)\n",
    "        states = next_states                               # roll over states to next time step\n",
    "        if np.any(dones):                                  # exit loop if episode finished\n",
    "            break\n",
    "    print('Score (max over agents) from episode {}: {}'.format(i, np.max(scores)))"
   ]
  },
  {
   "cell_type": "markdown",
   "metadata": {},
   "source": [
    "When finished, you can close the environment."
   ]
  },
  {
   "cell_type": "code",
   "execution_count": null,
   "metadata": {},
   "outputs": [],
   "source": [
    "env.close()"
   ]
  },
  {
   "cell_type": "markdown",
   "metadata": {},
   "source": [
    "### 4. It's Your Turn!\n",
    "\n",
    "Now it's your turn to train your own agent to solve the environment!  When training the environment, set `train_mode=True`, so that the line for resetting the environment looks like the following:\n",
    "```python\n",
    "env_info = env.reset(train_mode=True)[brain_name]\n",
    "```"
   ]
  },
  {
   "cell_type": "markdown",
   "metadata": {},
   "source": [
    "### 4.1 Multi Agent DDPG"
   ]
  },
  {
   "cell_type": "markdown",
   "metadata": {},
   "source": [
    "#### Load Libraries\n",
    "Load the necessary libraries"
   ]
  },
  {
   "cell_type": "code",
   "execution_count": 5,
   "metadata": {},
   "outputs": [],
   "source": [
    "from maddpg_singlenet_agents import Agent as MADDPG_agents\n",
    "from maddpg_agent import Agent as MADDPG_agent\n",
    "from buffer import ReplayBuffer\n",
    "from ddpg_agents import Agent as DDPG_agents\n",
    "from collections import deque\n",
    "import torch\n",
    "import matplotlib.pyplot as plt"
   ]
  },
  {
   "cell_type": "markdown",
   "metadata": {},
   "source": [
    "#### Player Function\n",
    "Function to run the environments and the agents over episodic tasks"
   ]
  },
  {
   "cell_type": "code",
   "execution_count": 6,
   "metadata": {},
   "outputs": [],
   "source": [
    "def maddpg_singlenet_run(n_episodes=1000, max_t=1000, print_every=100):\n",
    "    \n",
    "    device = torch.device(\"cuda:0\" if torch.cuda.is_available() else \"cpu\")\n",
    "    \n",
    "    agents = MADDPG_agents(state_size=state_size, action_size=action_size, n_agents = num_agents, random_seed=1)\n",
    "    scores_deque = deque(maxlen=print_every)\n",
    "    scores_list = []\n",
    "    for i_episode in range(1, n_episodes+1):\n",
    "        env_info = env.reset(train_mode=True)[brain_name]      # reset the environment    \n",
    "        states = env_info.vector_observations                  # get the current state (for each agent)\n",
    "        scores = np.zeros(num_agents)                          # initialize the score (for each agent)\n",
    "        agents.reset()                                         # reset exploration\n",
    "        for t in range(max_t):\n",
    "            actions= agents.act(states)                        # run the agents\n",
    "            env_info = env.step(actions)[brain_name]           # send all actions to tne environment\n",
    "            next_states = env_info.vector_observations         # get next state (for each agent)\n",
    "            rewards = env_info.rewards                         # get reward (for each agent)\n",
    "            dones = env_info.local_done                        # see if episode finished\n",
    "            agents.step(states, actions, rewards, next_states, dones) # add to memory\n",
    "            agents.learn()                                     # learn for both agents\n",
    "            states = next_states\n",
    "            scores += rewards                                  # update the score (for each agent)\n",
    "\n",
    "            if np.any(dones):                                  # exit loop if episode finished\n",
    "                break\n",
    "            \n",
    "        score = np.max(scores)\n",
    "        scores_deque.append(score)\n",
    "        scores_list.append(score)\n",
    "        print('\\rEpisode {}\\tAverage Score: {:.3f}'.format(i_episode, np.mean(scores_deque)), end=\"\")\n",
    "        \n",
    "        if i_episode % print_every == 0:\n",
    "            print('\\rEpisode {}\\tAverage Score: {:.3f}'.format(i_episode, np.mean(scores_deque)))\n",
    "        if np.mean(scores_deque)>=0.5:\n",
    "            print('\\nEnvironment solved in {:d} episodes!\\tAverage Score: {:.3f}'.format(i_episode, np.mean(scores_deque)))\n",
    "            torch.save(agents.actor_local.state_dict(), 'checkpoint_actor_maddpg_singlenet.pth')\n",
    "            torch.save(agents.critic_local.state_dict(), 'checkpoint_critic_maddpg_singlenet.pth')\n",
    "            break\n",
    "            \n",
    "    return scores_list"
   ]
  },
  {
   "cell_type": "code",
   "execution_count": 6,
   "metadata": {},
   "outputs": [],
   "source": [
    "def maddpg_run(n_episodes=2000, max_t=1000, print_every=100):\n",
    "    \n",
    "    device = torch.device(\"cuda:0\" if torch.cuda.is_available() else \"cpu\")\n",
    "    BUFFER_SIZE = int(1e6)  # replay buffer size\n",
    "    BATCH_SIZE = 256        # minibatch size\n",
    "    \n",
    "    # Replay memory\n",
    "    memory = ReplayBuffer(action_size, BUFFER_SIZE, BATCH_SIZE, 1)\n",
    "    agents = []\n",
    "    for i in range(num_agents):\n",
    "        agents.append(MADDPG_agent(state_size=state_size, action_size=action_size,n_agents = num_agents, random_seed=1))\n",
    "    scores_deque = deque(maxlen=print_every)\n",
    "    scores_list = []\n",
    "    for i_episode in range(1, n_episodes+1):\n",
    "        env_info = env.reset(train_mode=True)[brain_name]      # reset the environment    \n",
    "        states = env_info.vector_observations                  # get the current state (for each agent)\n",
    "        scores = np.zeros(num_agents)                          # initialize the score (for each agent)\n",
    "        for i in range(num_agents):\n",
    "            agents[i].reset()                                          # reset exploration\n",
    "        for t in range(max_t):\n",
    "            actions = np.zeros((num_agents,action_size))\n",
    "            for i in range(num_agents):\n",
    "                actions[i] = agents[i].act(states[i])          # run the agents\n",
    "            env_info = env.step(actions)[brain_name]           # send all actions to tne environment\n",
    "            next_states = env_info.vector_observations         # get next state (for each agent)\n",
    "            rewards = env_info.rewards                         # get reward (for each agent)\n",
    "            dones = env_info.local_done                        # see if episode finished\n",
    "            memory.add(states, actions, rewards, next_states, dones) # add to memory\n",
    "            if len(memory) > BATCH_SIZE:\n",
    "                experiences = memory.sample()\n",
    "                states_buffer, _, _, next_states_buffer, _ = experiences\n",
    "                #next and predicted actions\n",
    "                actions_next = torch.from_numpy(np.zeros((BATCH_SIZE, action_size*num_agents))).float().to(device) #initialize actions to 0\n",
    "                actions_pred = torch.from_numpy(np.zeros((BATCH_SIZE, action_size*num_agents))).float().to(device) #initialize actions to 0\n",
    "                for i in range(num_agents):\n",
    "                    actions_next[:,i*action_size:(i+1)*action_size] = agents[i].actor_target(next_states_buffer[i::num_agents,:])\n",
    "                    actions_pred[:,i*action_size:(i+1)*action_size] = agents[i].actor_local(states_buffer[i::num_agents,:])\n",
    "                \n",
    "                agent_id = t%num_agents                        # alternate learning on agents\n",
    "                agents[agent_id].learn(agent_id,experiences,actions_next,actions_pred) # learn for the selected agent\n",
    "            states = next_states\n",
    "            scores += rewards                                  # update the score (for each agent)\n",
    "\n",
    "            if np.any(dones):                                  # exit loop if episode finished\n",
    "                break\n",
    "            \n",
    "        score = np.max(scores)\n",
    "        scores_deque.append(score)\n",
    "        scores_list.append(score)\n",
    "        print('\\rEpisode {}\\tAverage Score: {:.3f}'.format(i_episode, np.mean(scores_deque)), end=\"\")\n",
    "        \n",
    "        if i_episode % print_every == 0:\n",
    "            print('\\rEpisode {}\\tAverage Score: {:.3f}'.format(i_episode, np.mean(scores_deque)))\n",
    "        if np.mean(scores_deque)>=0.5:\n",
    "            print('\\nEnvironment solved in {:d} episodes!\\tAverage Score: {:.3f}'.format(i_episode, np.mean(scores_deque)))\n",
    "            torch.save(agents.actor_local.state_dict(), 'checkpoint_actor_maddpg.pth')\n",
    "            torch.save(agents.critic_local.state_dict(), 'checkpoint_critic_maddpg.pth')\n",
    "            break\n",
    "            \n",
    "    return scores_list"
   ]
  },
  {
   "cell_type": "code",
   "execution_count": 6,
   "metadata": {},
   "outputs": [],
   "source": [
    "def ddpg_run(n_episodes=1000, max_t=1000, print_every=100):\n",
    "    agents = DDPG_agents(state_size=state_size, action_size=action_size, n_agents = num_agents, random_seed=1)\n",
    "    scores_deque = deque(maxlen=print_every)\n",
    "    scores_list = []\n",
    "    for i_episode in range(1, n_episodes+1):\n",
    "        env_info = env.reset(train_mode=True)[brain_name]      # reset the environment    \n",
    "        states = env_info.vector_observations                  # get the current state (for each agent)\n",
    "        scores = np.zeros(num_agents)                          # initialize the score (for each agent)\n",
    "        agents.reset()                                         # reset exploration\n",
    "        for t in range(max_t):\n",
    "            actions= agents.act(states)                        # run the agents\n",
    "            env_info = env.step(actions)[brain_name]           # send all actions to tne environment\n",
    "            next_states = env_info.vector_observations         # get next state (for each agent)\n",
    "            rewards = env_info.rewards                         # get reward (for each agent)\n",
    "            dones = env_info.local_done                        # see if episode finished\n",
    "            agents.step(states, actions, rewards, next_states, dones) # add to memory\n",
    "            agents.learn()\n",
    "            states = next_states\n",
    "            scores += rewards                                  # update the score (for each agent)\n",
    "\n",
    "            if np.any(dones):                                  # exit loop if episode finished\n",
    "                break\n",
    "            \n",
    "        score = np.max(scores)\n",
    "        scores_deque.append(score)\n",
    "        scores_list.append(score)\n",
    "        print('\\rEpisode {}\\tAverage Score: {:.3f}'.format(i_episode, np.mean(scores_deque)), end=\"\")\n",
    "        \n",
    "        if i_episode % print_every == 0:\n",
    "            print('\\rEpisode {}\\tAverage Score: {:.3f}'.format(i_episode, np.mean(scores_deque)))\n",
    "        if np.mean(scores_deque)>=0.5:\n",
    "            print('\\nEnvironment solved in {:d} episodes!\\tAverage Score: {:.3f}'.format(i_episode, np.mean(scores_deque)))\n",
    "            torch.save(agents.actor_local.state_dict(), 'checkpoint_actor_ddpg.pth')\n",
    "            torch.save(agents.critic_local.state_dict(), 'checkpoint_critic_ddpg.pth')\n",
    "            break\n",
    "            \n",
    "    return scores_list"
   ]
  },
  {
   "cell_type": "markdown",
   "metadata": {},
   "source": [
    "#### Run Function\n",
    "Executing training and reporting results"
   ]
  },
  {
   "cell_type": "code",
   "execution_count": 7,
   "metadata": {},
   "outputs": [
    {
     "name": "stdout",
     "output_type": "stream",
     "text": [
      "Episode 100\tAverage Score: 0.002\n",
      "Episode 200\tAverage Score: 0.001\n",
      "Episode 300\tAverage Score: 0.011\n",
      "Episode 400\tAverage Score: 0.066\n",
      "Episode 500\tAverage Score: 0.114\n",
      "Episode 600\tAverage Score: 0.252\n",
      "Episode 700\tAverage Score: 0.285\n",
      "Episode 800\tAverage Score: 0.455\n",
      "Episode 829\tAverage Score: 0.515\n",
      "Environment solved in 829 episodes!\tAverage Score: 0.515\n"
     ]
    },
    {
     "data": {
      "image/png": "[encoded data removed]",
      "text/plain": [
       "<Figure size 432x288 with 1 Axes>"
      ]
     },
     "metadata": {
      "needs_background": "light"
     },
     "output_type": "display_data"
    }
   ],
   "source": [
    "scores_list = maddpg_singlenet_run()\n",
    "\n",
    "fig = plt.figure()\n",
    "ax = fig.add_subplot(111)\n",
    "plt.plot(np.arange(1, len(scores_list)+1), scores_list)\n",
    "plt.ylabel('Score')\n",
    "plt.xlabel('Episode #')\n",
    "plt.show()"
   ]
  },
  {
   "cell_type": "code",
   "execution_count": 7,
   "metadata": {},
   "outputs": [
    {
     "name": "stdout",
     "output_type": "stream",
     "text": [
      "Episode 100\tAverage Score: 0.001\n",
      "Episode 200\tAverage Score: 0.000\n",
      "Episode 300\tAverage Score: 0.000\n",
      "Episode 400\tAverage Score: 0.000\n",
      "Episode 500\tAverage Score: 0.000\n",
      "Episode 600\tAverage Score: 0.014\n",
      "Episode 700\tAverage Score: 0.019\n",
      "Episode 800\tAverage Score: 0.042\n",
      "Episode 900\tAverage Score: 0.023\n",
      "Episode 1000\tAverage Score: 0.022\n",
      "Episode 1100\tAverage Score: 0.014\n",
      "Episode 1200\tAverage Score: 0.017\n",
      "Episode 1300\tAverage Score: 0.009\n",
      "Episode 1400\tAverage Score: 0.011\n",
      "Episode 1500\tAverage Score: 0.004\n",
      "Episode 1600\tAverage Score: 0.009\n",
      "Episode 1700\tAverage Score: 0.008\n",
      "Episode 1800\tAverage Score: 0.011\n",
      "Episode 1900\tAverage Score: 0.003\n",
      "Episode 2000\tAverage Score: 0.001\n"
     ]
    },
    {
     "data": {
      "image/png": "[encoded data removed]",
      "text/plain": [
       "<Figure size 432x288 with 1 Axes>"
      ]
     },
     "metadata": {
      "needs_background": "light"
     },
     "output_type": "display_data"
    }
   ],
   "source": [
    "scores_list = maddpg_run()\n",
    "\n",
    "fig = plt.figure()\n",
    "ax = fig.add_subplot(111)\n",
    "plt.plot(np.arange(1, len(scores_list)+1), scores_list)\n",
    "plt.ylabel('Score')\n",
    "plt.xlabel('Episode #')\n",
    "plt.show()"
   ]
  },
  {
   "cell_type": "code",
   "execution_count": 7,
   "metadata": {},
   "outputs": [
    {
     "name": "stdout",
     "output_type": "stream",
     "text": [
      "Episode 100\tAverage Score: 0.002\n",
      "Episode 200\tAverage Score: 0.021\n",
      "Episode 300\tAverage Score: 0.017\n",
      "Episode 400\tAverage Score: 0.077\n",
      "Episode 500\tAverage Score: 0.129\n",
      "Episode 600\tAverage Score: 0.164\n",
      "Episode 700\tAverage Score: 0.208\n",
      "Episode 800\tAverage Score: 0.351\n",
      "Episode 831\tAverage Score: 0.504\n",
      "Environment solved in 831 episodes!\tAverage Score: 0.504\n"
     ]
    },
    {
     "data": {
      "image/png": "[encoded data removed]",
      "text/plain": [
       "<Figure size 432x288 with 1 Axes>"
      ]
     },
     "metadata": {
      "needs_background": "light"
     },
     "output_type": "display_data"
    }
   ],
   "source": [
    "#nuova prova\n",
    "scores_list = ddpg_run()\n",
    "\n",
    "fig = plt.figure()\n",
    "ax = fig.add_subplot(111)\n",
    "plt.plot(np.arange(1, len(scores_list)+1), scores_list)\n",
    "plt.ylabel('Score')\n",
    "plt.xlabel('Episode #')\n",
    "plt.show()"
   ]
  },
  {
   "cell_type": "code",
   "execution_count": 7,
   "metadata": {},
   "outputs": [
    {
     "name": "stdout",
     "output_type": "stream",
     "text": [
      "Episode 100\tAverage Score: 0.005\n",
      "Episode 200\tAverage Score: 0.003\n",
      "Episode 300\tAverage Score: 0.036\n",
      "Episode 400\tAverage Score: 0.095\n",
      "Episode 500\tAverage Score: 0.351\n",
      "Episode 600\tAverage Score: 0.386\n",
      "Episode 700\tAverage Score: 0.379\n",
      "Episode 800\tAverage Score: 0.458\n",
      "Episode 819\tAverage Score: 0.503\n",
      "Environment solved in 819 episodes!\tAverage Score: 0.503\n"
     ]
    },
    {
     "data": {
      "image/png": "[encoded data removed]",
      "text/plain": [
       "<Figure size 432x288 with 1 Axes>"
      ]
     },
     "metadata": {
      "needs_background": "light"
     },
     "output_type": "display_data"
    }
   ],
   "source": [
    "scores_list = ddpg_run()\n",
    "\n",
    "fig = plt.figure()\n",
    "ax = fig.add_subplot(111)\n",
    "plt.plot(np.arange(1, len(scores_list)+1), scores_list)\n",
    "plt.ylabel('Score')\n",
    "plt.xlabel('Episode #')\n",
    "plt.show()"
   ]
  },
  {
   "cell_type": "code",
   "execution_count": null,
   "metadata": {},
   "outputs": [],
   "source": []
  },
  {
   "cell_type": "code",
   "execution_count": null,
   "metadata": {},
   "outputs": [],
   "source": []
  }
 ],
 "metadata": {
  "kernelspec": {
   "display_name": "drlnd",
   "language": "python",
   "name": "drlnd"
  },
  "language_info": {
   "codemirror_mode": {
    "name": "ipython",
    "version": 3
   },
   "file_extension": ".py",
   "mimetype": "text/x-python",
   "name": "python",
   "nbconvert_exporter": "python",
   "pygments_lexer": "ipython3",
   "version": "3.6.9"
  }
 },
 "nbformat": 4,
 "nbformat_minor": 2
}
